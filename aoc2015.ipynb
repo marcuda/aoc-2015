{
 "cells": [
  {
   "cell_type": "code",
   "execution_count": 1,
   "metadata": {},
   "outputs": [],
   "source": [
    "import numpy as np\n",
    "from PIL import Image\n",
    "from skimage.transform import rescale\n",
    "from skimage import measure as sk_measure\n",
    "import itertools\n",
    "import math\n",
    "import time\n",
    "from datetime import datetime as dt\n",
    "import collections\n",
    "import re\n",
    "\n",
    "def get_input(day, split=None, f=str.strip):\n",
    "    fin = f'dat/2015-{day:02}.txt'\n",
    "    if split is None:\n",
    "        input = open(fin, 'r').readlines()\n",
    "    else:\n",
    "        input = open(fin, 'r').read().split(split)\n",
    "    \n",
    "    if f is not None:\n",
    "        input = [f(x) for x in input]\n",
    "    \n",
    "    return input\n",
    "\n",
    "def timestamp(ts):\n",
    "    date = dt.fromtimestamp(ts)\n",
    "    return f'[{date.hour:02}:{date.minute:02}:{date.second:02}]'\n",
    "\n",
    "def output(*args, ts=0):\n",
    "    out = ' '.join([str(x) for x in args])\n",
    "    if ts:\n",
    "        ts = timestamp(ts)\n",
    "        sz = 76 - len(out) - len(ts)\n",
    "        if sz > 0:\n",
    "            out += ' ' * sz\n",
    "        out += ts\n",
    "    print(out)\n",
    "\n",
    "def as_ints(input):    \n",
    "    nums = []\n",
    "    for x in input:\n",
    "        x = [int(c) for c in x]\n",
    "        nums.append(np.asarray(x))\n",
    "    return np.asarray(nums)"
   ]
  },
  {
   "cell_type": "markdown",
   "metadata": {},
   "source": [
    "# Day 1"
   ]
  },
  {
   "cell_type": "code",
   "execution_count": 3,
   "metadata": {},
   "outputs": [
    {
     "name": "stdout",
     "output_type": "stream",
     "text": [
      "280                                                               [16:05:03]\n",
      "1797                                                              [16:07:25]\n"
     ]
    }
   ],
   "source": [
    "input = get_input(1)\n",
    "\n",
    "def day_one(a, two=False):\n",
    "    floor = 0\n",
    "    idx = 0\n",
    "    for row in a:\n",
    "        for c in row:\n",
    "            idx += 1\n",
    "            floor += 1 if c == '(' else -1\n",
    "            if two and floor < 0:\n",
    "                return idx\n",
    "    return floor\n",
    "        \n",
    "    \n",
    "\n",
    "output(day_one(input), ts=1733259903)\n",
    "output(day_one(input, True), ts=1733260045)"
   ]
  },
  {
   "cell_type": "markdown",
   "metadata": {},
   "source": [
    "# Day 2"
   ]
  },
  {
   "cell_type": "code",
   "execution_count": 10,
   "metadata": {},
   "outputs": [
    {
     "name": "stdout",
     "output_type": "stream",
     "text": [
      "1586300                                                           [16:24:34]\n",
      "3737498                                                           [17:03:35]\n"
     ]
    }
   ],
   "source": [
    "input = get_input(2)\n",
    "        \n",
    "def day_two(a, two=False):\n",
    "    total = 0\n",
    "    for row in a:\n",
    "        l, w, h = [int(i) for i in row.split('x')]\n",
    "        if two:\n",
    "            lst = [l, w, h]\n",
    "            x = lst.pop(lst.index(min(lst)))\n",
    "            y = lst.pop(lst.index(min(lst)))\n",
    "            total += 2*x + 2*y + l*w*h\n",
    "        else:\n",
    "            total += 2*l*w + 2*w*h + 2*h*l + min(l*w, w*h, h*l)\n",
    "    return total\n",
    "        \n",
    "output(day_two(input), ts=1733261074)\n",
    "output(day_two(input, True), ts=1733263415)"
   ]
  },
  {
   "cell_type": "markdown",
   "metadata": {},
   "source": [
    "# Day 3"
   ]
  },
  {
   "cell_type": "code",
   "execution_count": 28,
   "metadata": {},
   "outputs": [
    {
     "name": "stdout",
     "output_type": "stream",
     "text": [
      "2592                                                              [17:52:47]\n",
      "2360                                                              [18:15:51]\n"
     ]
    }
   ],
   "source": [
    "input = get_input(3)\n",
    "\n",
    "xmap = {\n",
    "    '<': -1,\n",
    "    '>': 1\n",
    "}\n",
    "ymap = {\n",
    "    '^': -1,\n",
    "    'v': 1\n",
    "}\n",
    "\n",
    "def day_three(a, two=False):\n",
    "    a = a[0]\n",
    "    grid = np.zeros((len(a)*2+1, len(a)*2+1), np.int32)\n",
    "    y = x = len(a)\n",
    "    grid[y][x] += 1\n",
    "    \n",
    "    if two:\n",
    "        y1 = y\n",
    "        x1 = x\n",
    "        grid[y1][x1] += 1\n",
    "        \n",
    "    cnt = 0\n",
    "    for c in a:\n",
    "        cnt += 1\n",
    "        if two and cnt % 2 == 0:\n",
    "            x1 += xmap.get(c, 0)\n",
    "            y1 += ymap.get(c, 0)\n",
    "            grid[y1][x1] += 1\n",
    "        else:\n",
    "            x += xmap.get(c, 0)\n",
    "            y += ymap.get(c, 0)\n",
    "            grid[y][x] += 1\n",
    "            \n",
    "    grid[np.where(grid>0)] = 1\n",
    "    return np.sum(grid)\n",
    "\n",
    "output(day_three(input), ts=1733266367) #34873487 low\n",
    "output(day_three(input, True), ts=1733267751)"
   ]
  },
  {
   "cell_type": "markdown",
   "metadata": {},
   "source": [
    "# Day 4"
   ]
  },
  {
   "cell_type": "code",
   "execution_count": 47,
   "metadata": {},
   "outputs": [
    {
     "name": "stdout",
     "output_type": "stream",
     "text": [
      "346386                                                            [00:33:33]\n",
      "9958218                                                           [00:38:36]\n"
     ]
    }
   ],
   "source": [
    "input = \"iwrupvqb\"\n",
    "#input = \"abcdef\"\n",
    "import hashlib\n",
    "\n",
    "def day_four(a, two=False):\n",
    "    i = 0\n",
    "    while True:\n",
    "        i += 1\n",
    "        h = hashlib.md5(f\"{a}{i}\".encode()).hexdigest()\n",
    "        if two and h[:6] == \"000000\":\n",
    "            return i\n",
    "        elif not two and h[:5] == \"00000\":\n",
    "            return i\n",
    "        \n",
    "output(day_four(input), ts=1733290413)\n",
    "output(day_four(input, True), ts=1733290716)"
   ]
  },
  {
   "cell_type": "markdown",
   "metadata": {},
   "source": [
    "# Day 5"
   ]
  },
  {
   "cell_type": "code",
   "execution_count": 28,
   "metadata": {},
   "outputs": [
    {
     "name": "stdout",
     "output_type": "stream",
     "text": [
      "236                                                               [00:12:37]\n",
      "51                                                                [00:21:16]\n"
     ]
    }
   ],
   "source": [
    "input = \"\"\"ugknbfddgicrmopn\n",
    "aaa\n",
    "jchzalrnumimnmhp\n",
    "haegwjzuvuyypxyu\n",
    "dvszwmarrgswjxmb\"\"\".split('\\n')\n",
    "input = \"\"\"qjhvhtzxzqqjkmpb\n",
    "xxyxx\n",
    "uurcxstgmygtbstg\n",
    "ieodomkazucvgmuy\"\"\".split('\\n')\n",
    "input = get_input(5)\n",
    "\n",
    "def day_five(a, two=False):\n",
    "    nice = 0\n",
    "    for row in a:\n",
    "        naughty = False\n",
    "        if two:\n",
    "            for i in range(len(row)-2):\n",
    "                c = row[i] + row[i+1]\n",
    "                if row[i+2:].find(c) >= 0:\n",
    "                    break\n",
    "            else:\n",
    "                naughty = True\n",
    "            \n",
    "            for i in range(len(row)-2):\n",
    "                if row[i] == row[i+2]:\n",
    "                    break\n",
    "            else:\n",
    "                naughty = True\n",
    "        else:\n",
    "            for s in ('ab', 'cd', 'pq', 'xy'):\n",
    "                if s in row:\n",
    "                    naughty = True\n",
    "                    break\n",
    "\n",
    "            cnt = 0\n",
    "            for v in \"aeiou\":\n",
    "                cnt += row.count(v)\n",
    "            if cnt < 3:\n",
    "                naughty = True\n",
    "\n",
    "            last = \"\"\n",
    "            for c in row:\n",
    "                if c == last:\n",
    "                    break\n",
    "                last = c\n",
    "            else:\n",
    "                naughty = True\n",
    "        \n",
    "        if not naughty:\n",
    "            nice += 1\n",
    "    \n",
    "    return nice\n",
    "    \n",
    "    \n",
    "\n",
    "output(day_five(input), ts=1733375557)\n",
    "output(day_five(input, True), ts=1733376076) #48, 41, 43"
   ]
  },
  {
   "cell_type": "markdown",
   "metadata": {},
   "source": [
    "# Day 6"
   ]
  },
  {
   "cell_type": "code",
   "execution_count": 58,
   "metadata": {},
   "outputs": [
    {
     "name": "stdout",
     "output_type": "stream",
     "text": [
      "377891                                                            [00:01:37]\n",
      "14110788                                                          [00:04:42]\n"
     ]
    }
   ],
   "source": [
    "input = get_input(6)\n",
    "\n",
    "def day_six(a, two=False):\n",
    "    if two:\n",
    "        grid = np.zeros((1000,1000), np.int32)\n",
    "    else:\n",
    "        grid = np.zeros((1000,1000), bool)\n",
    "    \n",
    "    for row in a:\n",
    "        inst = row.split()\n",
    "        if len(inst) == 4:\n",
    "            ul = inst[1]\n",
    "            lr = inst[3]\n",
    "            inst = inst[0]\n",
    "        else:\n",
    "            ul = inst[2]\n",
    "            lr = inst[4]\n",
    "            inst = inst[1]\n",
    "        \n",
    "        x0, y0 = [int(i) for i in ul.split(',')]\n",
    "        x1, y1 = [int(i) for i in lr.split(',')]\n",
    "        \n",
    "        if inst == 'on':\n",
    "            if two:\n",
    "                grid[y0:y1+1,x0:x1+1] += 1\n",
    "            else:\n",
    "                grid[y0:y1+1,x0:x1+1] = 1\n",
    "        elif inst == 'off':\n",
    "            if two:\n",
    "                grid[y0:y1+1,x0:x1+1] -= 1\n",
    "                grid[np.where(grid<0)] = 0\n",
    "            else:\n",
    "                grid[y0:y1+1,x0:x1+1] = 0\n",
    "        else:\n",
    "            if two:\n",
    "                grid[y0:y1+1,x0:x1+1] += 2\n",
    "            else:\n",
    "                grid[y0:y1+1,x0:x1+1] = np.invert(grid[y0:y1+1,x0:x1+1])\n",
    "        \n",
    "    return np.sum(grid)\n",
    "        \n",
    "output(day_six(input), ts=1638334897) # 496615 hi\n",
    "output(day_six(input, True), ts=1638335082)"
   ]
  },
  {
   "cell_type": "markdown",
   "metadata": {},
   "source": [
    "# Day 7"
   ]
  },
  {
   "cell_type": "code",
   "execution_count": 95,
   "metadata": {},
   "outputs": [
    {
     "name": "stdout",
     "output_type": "stream",
     "text": [
      "956                                                               [00:01:37]\n",
      "40149                                                             [00:04:42]\n"
     ]
    }
   ],
   "source": [
    "input = \"\"\"123 -> x\n",
    "456 -> y\n",
    "x AND y -> d\n",
    "x OR y -> e\n",
    "x LSHIFT 2 -> f\n",
    "y RSHIFT 2 -> g\n",
    "NOT x -> h\n",
    "NOT y -> i\"\"\".split('\\n')\n",
    "input = get_input(7)\n",
    "\n",
    "def run_circuit(a, circuit):\n",
    "    done = False\n",
    "    a.sort()\n",
    "    while not done:\n",
    "        #print(circuit)\n",
    "        done = True\n",
    "        for row in a:\n",
    "            row = row.split()\n",
    "            dst = row[-1]\n",
    "            if dst in circuit:\n",
    "                continue\n",
    "                \n",
    "            if 'NOT' in row:\n",
    "                src = row[1]\n",
    "                if src not in circuit:\n",
    "                    done = False\n",
    "                    continue\n",
    "                circuit[dst] = ~circuit[src]\n",
    "            elif 'RSHIFT' in row:\n",
    "                src = row[0]\n",
    "                val = int(row[2])\n",
    "                if src not in circuit:\n",
    "                    done = False\n",
    "                    continue\n",
    "                circuit[dst] = circuit[src] >> val\n",
    "            elif 'LSHIFT' in row:\n",
    "                src = row[0]\n",
    "                val = int(row[2])\n",
    "                if src not in circuit:\n",
    "                    done = False\n",
    "                    continue\n",
    "                circuit[dst] = circuit[src] << val\n",
    "            elif 'OR' in row:\n",
    "                src1 = row[0]\n",
    "                src2 = row[2]\n",
    "                if src1 not in circuit or src2 not in circuit:\n",
    "                    done = False\n",
    "                    continue\n",
    "                circuit[dst] = circuit[src1] | circuit[src2]\n",
    "            elif 'AND' in row:\n",
    "                src1 = row[0]\n",
    "                if src1 == '1':\n",
    "                    src1 = 1\n",
    "                elif src1 in circuit:\n",
    "                    src1 = circuit[src1]\n",
    "                else:\n",
    "                    done = False\n",
    "                    continue\n",
    "                    \n",
    "                src2 = row[2]                \n",
    "                if src2 not in circuit:\n",
    "                    done = False\n",
    "                    continue\n",
    "                circuit[dst] = src1 & circuit[src2]\n",
    "            else:\n",
    "                src = row[0]\n",
    "                try:\n",
    "                    val = int(src)\n",
    "                    circuit[dst] = np.uint16(val)\n",
    "                except ValueError:\n",
    "                    if src not in circuit:\n",
    "                        done = False\n",
    "                        continue\n",
    "                    circuit[dst] = circuit[src]\n",
    "\n",
    "    return circuit\n",
    "\n",
    "def day_seven(a, two=False):\n",
    "    circuit = run_circuit(a, {})\n",
    "    if two:\n",
    "        circuit = run_circuit(a, {'b':circuit['a']})\n",
    "    return circuit['a']\n",
    "        \n",
    "\n",
    "output(day_seven(input), ts=1638334897)\n",
    "output(day_seven(input, True), ts=1638335082)"
   ]
  },
  {
   "cell_type": "markdown",
   "metadata": {},
   "source": [
    "# Day 8"
   ]
  },
  {
   "cell_type": "code",
   "execution_count": 144,
   "metadata": {},
   "outputs": [
    {
     "name": "stdout",
     "output_type": "stream",
     "text": [
      "1342                                                              [00:01:37]\n",
      "2074                                                              [00:04:42]\n"
     ]
    }
   ],
   "source": [
    "input = \"\"\"\n",
    "\"\"\n",
    "\"abc\"\n",
    "\"aaa\\\\\"aaa\"\n",
    "\"\\\\x27\"\n",
    "\"\"\".split('\\n')\n",
    "input = get_input(8)\n",
    "\n",
    "def day_eight(a, two=False):\n",
    "    total = 0\n",
    "    for row in a:\n",
    "        if not row:continue\n",
    "        if two:\n",
    "            sub = row.replace('\\\\\\\\', '\\\\\\\\\\\\\\\\').replace('\\\\x', '\\\\\\\\x').replace('\\\\\"', '\\\\\\\\\\\\\"')\n",
    "            if sub.endswith('\\\\\\\\\\\\\\\\\\\\\\\\\"'):\n",
    "                sub = sub.replace('\\\\\\\\\\\\\\\\\\\\\\\\\"', '\\\\\\\\\\\\\\\\\"')\n",
    "            if '\\\\\\\\\\\\\\\\\\\\x' in sub:\n",
    "                sub = sub.replace('\\\\\\\\\\\\\\\\\\\\x', '\\\\\\\\\\\\\\\\x')\n",
    "            sub = ''\n",
    "            i = 0\n",
    "            while i < len(row)-1:\n",
    "                if row[i] == '\\\\':\n",
    "                    if row[i+1] == '\\\\':\n",
    "                        sub += '\\\\\\\\\\\\\\\\'\n",
    "                    elif row[i+1] == '\"':\n",
    "                        sub += '\\\\\\\\\\\\\"'\n",
    "                    elif row[i+1] == 'x':\n",
    "                        sub += '\\\\\\\\x'\n",
    "                    else:\n",
    "                        print(row,sub,row[i],row[i+1])\n",
    "                        raise\n",
    "                    i += 2\n",
    "                else:\n",
    "                    sub += row[i]\n",
    "                    i += 1\n",
    "            sub += '\"'\n",
    "            #TODO: fix \\\\x \n",
    "            total += len(sub) + 4 - len(row)\n",
    "        else:\n",
    "            total += len(row) - len(eval(row))\n",
    "    return total\n",
    "\n",
    "output(day_eight(input), ts=1638334897)\n",
    "output(day_eight(input, True), ts=1638335082)"
   ]
  },
  {
   "cell_type": "markdown",
   "metadata": {},
   "source": [
    "# Day 9"
   ]
  },
  {
   "cell_type": "code",
   "execution_count": 4,
   "metadata": {},
   "outputs": [
    {
     "name": "stdout",
     "output_type": "stream",
     "text": [
      "1                                                                 [00:01:37]\n",
      "2                                                                 [00:04:42]\n"
     ]
    }
   ],
   "source": [
    "input = get_input(9)\n",
    "\n",
    "def day_nine(a, two=False):\n",
    "    return a\n",
    "\n",
    "output(day_nine(input), ts=1638334897)\n",
    "output(day_nine(input, True), ts=1638335082)"
   ]
  },
  {
   "cell_type": "markdown",
   "metadata": {},
   "source": [
    "# Day 10"
   ]
  },
  {
   "cell_type": "code",
   "execution_count": 4,
   "metadata": {},
   "outputs": [
    {
     "name": "stdout",
     "output_type": "stream",
     "text": [
      "1                                                                 [00:01:37]\n",
      "2                                                                 [00:04:42]\n"
     ]
    }
   ],
   "source": [
    "input = get_input(10)\n",
    "\n",
    "def day_ten(a, two=False):\n",
    "    return a\n",
    "\n",
    "output(day_ten(input), ts=1638334897)\n",
    "output(day_ten(input, True), ts=1638335082)"
   ]
  },
  {
   "cell_type": "markdown",
   "metadata": {},
   "source": [
    "# Day 11"
   ]
  },
  {
   "cell_type": "code",
   "execution_count": 4,
   "metadata": {},
   "outputs": [
    {
     "name": "stdout",
     "output_type": "stream",
     "text": [
      "1                                                                 [00:01:37]\n",
      "2                                                                 [00:04:42]\n"
     ]
    }
   ],
   "source": [
    "input = get_input(11)\n",
    "\n",
    "def day_eleven(a, two=False):\n",
    "    return a\n",
    "\n",
    "output(day_eleven(input), ts=1638334897)\n",
    "output(day_eleven(input, True), ts=1638335082)"
   ]
  },
  {
   "cell_type": "markdown",
   "metadata": {},
   "source": [
    "# Day 12"
   ]
  },
  {
   "cell_type": "code",
   "execution_count": 4,
   "metadata": {},
   "outputs": [
    {
     "name": "stdout",
     "output_type": "stream",
     "text": [
      "1                                                                 [00:01:37]\n",
      "2                                                                 [00:04:42]\n"
     ]
    }
   ],
   "source": [
    "input = get_input(12)\n",
    "\n",
    "def day_twelve(a, two=False):\n",
    "    return a\n",
    "\n",
    "output(day_twelve(input), ts=1638334897)\n",
    "output(day_twelve(input, True), ts=1638335082)"
   ]
  },
  {
   "cell_type": "markdown",
   "metadata": {},
   "source": [
    "# Day 13"
   ]
  },
  {
   "cell_type": "code",
   "execution_count": 4,
   "metadata": {},
   "outputs": [
    {
     "name": "stdout",
     "output_type": "stream",
     "text": [
      "1                                                                 [00:01:37]\n",
      "2                                                                 [00:04:42]\n"
     ]
    }
   ],
   "source": [
    "input = get_input(13)\n",
    "\n",
    "def day_thirteen(a, two=False):\n",
    "    return a\n",
    "\n",
    "output(day_thirteen(input), ts=1638334897)\n",
    "output(day_thirteen(input, True), ts=1638335082)"
   ]
  },
  {
   "cell_type": "markdown",
   "metadata": {},
   "source": [
    "# Day 14"
   ]
  },
  {
   "cell_type": "code",
   "execution_count": 4,
   "metadata": {},
   "outputs": [
    {
     "name": "stdout",
     "output_type": "stream",
     "text": [
      "1                                                                 [00:01:37]\n",
      "2                                                                 [00:04:42]\n"
     ]
    }
   ],
   "source": [
    "input = get_input(14)\n",
    "\n",
    "def day_fourteen(a, two=False):\n",
    "    return a\n",
    "\n",
    "output(day_fourteen(input), ts=1638334897)\n",
    "output(day_fourteen(input, True), ts=1638335082)"
   ]
  },
  {
   "cell_type": "markdown",
   "metadata": {},
   "source": [
    "# Day 15"
   ]
  },
  {
   "cell_type": "code",
   "execution_count": 4,
   "metadata": {},
   "outputs": [
    {
     "name": "stdout",
     "output_type": "stream",
     "text": [
      "1                                                                 [00:01:37]\n",
      "2                                                                 [00:04:42]\n"
     ]
    }
   ],
   "source": [
    "input = get_input(15)\n",
    "\n",
    "def day_fifteen(a, two=False):\n",
    "    return a\n",
    "\n",
    "output(day_fifteen(input), ts=1638334897)\n",
    "output(day_fifteen(input, True), ts=1638335082)"
   ]
  },
  {
   "cell_type": "markdown",
   "metadata": {},
   "source": [
    "# Day 16"
   ]
  },
  {
   "cell_type": "code",
   "execution_count": 4,
   "metadata": {},
   "outputs": [
    {
     "name": "stdout",
     "output_type": "stream",
     "text": [
      "1                                                                 [00:01:37]\n",
      "2                                                                 [00:04:42]\n"
     ]
    }
   ],
   "source": [
    "input = get_input(16)\n",
    "\n",
    "def day_sixteen(a, two=False):\n",
    "    return a\n",
    "\n",
    "output(day_sixteen(input), ts=1638334897)\n",
    "output(day_sixteen(input, True), ts=1638335082)"
   ]
  },
  {
   "cell_type": "markdown",
   "metadata": {},
   "source": [
    "# Day 17"
   ]
  },
  {
   "cell_type": "code",
   "execution_count": 4,
   "metadata": {},
   "outputs": [
    {
     "name": "stdout",
     "output_type": "stream",
     "text": [
      "1                                                                 [00:01:37]\n",
      "2                                                                 [00:04:42]\n"
     ]
    }
   ],
   "source": [
    "input = get_input(17)\n",
    "\n",
    "def day_seventeen(a, two=False):\n",
    "    return a\n",
    "\n",
    "output(day_seventeen(input), ts=1638334897)\n",
    "output(day_seventeen(input, True), ts=1638335082)"
   ]
  },
  {
   "cell_type": "markdown",
   "metadata": {},
   "source": [
    "# Day 18"
   ]
  },
  {
   "cell_type": "code",
   "execution_count": 4,
   "metadata": {},
   "outputs": [
    {
     "name": "stdout",
     "output_type": "stream",
     "text": [
      "1                                                                 [00:01:37]\n",
      "2                                                                 [00:04:42]\n"
     ]
    }
   ],
   "source": [
    "input = get_input(18)\n",
    "\n",
    "def day_eighteen(a, two=False):\n",
    "    return a\n",
    "\n",
    "output(day_eighteen(input), ts=1638334897)\n",
    "output(day_eighteen(input, True), ts=1638335082)"
   ]
  },
  {
   "cell_type": "markdown",
   "metadata": {},
   "source": [
    "# Day 19"
   ]
  },
  {
   "cell_type": "code",
   "execution_count": 4,
   "metadata": {},
   "outputs": [
    {
     "name": "stdout",
     "output_type": "stream",
     "text": [
      "1                                                                 [00:01:37]\n",
      "2                                                                 [00:04:42]\n"
     ]
    }
   ],
   "source": [
    "input = get_input(19)\n",
    "\n",
    "def day_nineteen(a, two=False):\n",
    "    return a\n",
    "\n",
    "output(day_nineteen(input), ts=1638334897)\n",
    "output(day_nineteen(input, True), ts=1638335082)"
   ]
  },
  {
   "cell_type": "markdown",
   "metadata": {},
   "source": [
    "# Day 20"
   ]
  },
  {
   "cell_type": "code",
   "execution_count": 4,
   "metadata": {},
   "outputs": [
    {
     "name": "stdout",
     "output_type": "stream",
     "text": [
      "1                                                                 [00:01:37]\n",
      "2                                                                 [00:04:42]\n"
     ]
    }
   ],
   "source": [
    "input = get_input(20)\n",
    "\n",
    "def day_twenty(a, two=False):\n",
    "    return a\n",
    "\n",
    "output(day_twenty(input), ts=1638334897)\n",
    "output(day_twenty(input, True), ts=1638335082)"
   ]
  },
  {
   "cell_type": "markdown",
   "metadata": {},
   "source": [
    "# Day 21"
   ]
  },
  {
   "cell_type": "code",
   "execution_count": 4,
   "metadata": {},
   "outputs": [
    {
     "name": "stdout",
     "output_type": "stream",
     "text": [
      "1                                                                 [00:01:37]\n",
      "2                                                                 [00:04:42]\n"
     ]
    }
   ],
   "source": [
    "input = get_input(21)\n",
    "\n",
    "def day_twentyone(a, two=False):\n",
    "    return a\n",
    "\n",
    "output(day_twentyone(input), ts=1638334897)\n",
    "output(day_twentyone(input, True), ts=1638335082)"
   ]
  },
  {
   "cell_type": "markdown",
   "metadata": {},
   "source": [
    "# Day 22"
   ]
  },
  {
   "cell_type": "code",
   "execution_count": 4,
   "metadata": {},
   "outputs": [
    {
     "name": "stdout",
     "output_type": "stream",
     "text": [
      "1                                                                 [00:01:37]\n",
      "2                                                                 [00:04:42]\n"
     ]
    }
   ],
   "source": [
    "input = get_input(22)\n",
    "\n",
    "def day_twentytwo(a, two=False):\n",
    "    return a\n",
    "\n",
    "output(day_twentytwo(input), ts=1638334897)\n",
    "output(day_twentytwo(input, True), ts=1638335082)"
   ]
  },
  {
   "cell_type": "markdown",
   "metadata": {},
   "source": [
    "# Day 23"
   ]
  },
  {
   "cell_type": "code",
   "execution_count": 4,
   "metadata": {},
   "outputs": [
    {
     "name": "stdout",
     "output_type": "stream",
     "text": [
      "1                                                                 [00:01:37]\n",
      "2                                                                 [00:04:42]\n"
     ]
    }
   ],
   "source": [
    "input = get_input(23)\n",
    "\n",
    "def day_twentythree(a, two=False):\n",
    "    return a\n",
    "\n",
    "output(day_twentythree(input), ts=1638334897)\n",
    "output(day_twentythree(input, True), ts=1638335082)"
   ]
  },
  {
   "cell_type": "markdown",
   "metadata": {},
   "source": [
    "# Day 24"
   ]
  },
  {
   "cell_type": "code",
   "execution_count": 4,
   "metadata": {},
   "outputs": [
    {
     "name": "stdout",
     "output_type": "stream",
     "text": [
      "1                                                                 [00:01:37]\n",
      "2                                                                 [00:04:42]\n"
     ]
    }
   ],
   "source": [
    "input = get_input(24)\n",
    "\n",
    "def day_twentyfour(a, two=False):\n",
    "    return a\n",
    "\n",
    "output(day_twentyfour(input), ts=1638334897)\n",
    "output(day_twentyfour(input, True), ts=1638335082)"
   ]
  },
  {
   "cell_type": "markdown",
   "metadata": {},
   "source": [
    "# Day 25"
   ]
  },
  {
   "cell_type": "code",
   "execution_count": 4,
   "metadata": {},
   "outputs": [
    {
     "name": "stdout",
     "output_type": "stream",
     "text": [
      "1                                                                 [00:01:37]\n",
      "2                                                                 [00:04:42]\n"
     ]
    }
   ],
   "source": [
    "input = get_input(25)\n",
    "\n",
    "def day_twentyfive(a):\n",
    "    return a\n",
    "\n",
    "output(day_twentyfive(input), ts=1638334897)"
   ]
  }
 ],
 "metadata": {
  "kernelspec": {
   "display_name": "Python 3 (ipykernel)",
   "language": "python",
   "name": "python3"
  },
  "language_info": {
   "codemirror_mode": {
    "name": "ipython",
    "version": 3
   },
   "file_extension": ".py",
   "mimetype": "text/x-python",
   "name": "python",
   "nbconvert_exporter": "python",
   "pygments_lexer": "ipython3",
   "version": "3.12.3"
  }
 },
 "nbformat": 4,
 "nbformat_minor": 2
}
